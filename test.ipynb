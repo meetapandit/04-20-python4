{
  "nbformat": 4,
  "nbformat_minor": 0,
  "metadata": {
    "colab": {
      "provenance": [],
      "authorship_tag": "ABX9TyNH+Yx5ZKCfBQ/esBhr91rQ",
      "include_colab_link": true
    },
    "kernelspec": {
      "name": "python3",
      "display_name": "Python 3"
    },
    "language_info": {
      "name": "python"
    }
  },
  "cells": [
    {
      "cell_type": "markdown",
      "metadata": {
        "id": "view-in-github",
        "colab_type": "text"
      },
      "source": [
        "<a href=\"https://colab.research.google.com/github/meetapandit/04-20-python4/blob/master/test.ipynb\" target=\"_parent\"><img src=\"https://colab.research.google.com/assets/colab-badge.svg\" alt=\"Open In Colab\"/></a>"
      ]
    },
    {
      "cell_type": "code",
      "execution_count": 2,
      "metadata": {
        "colab": {
          "base_uri": "https://localhost:8080/"
        },
        "id": "4zD-dmr1jyNV",
        "outputId": "35377fac-6b2e-40e9-fbda-b5c3de544626"
      },
      "outputs": [
        {
          "output_type": "stream",
          "name": "stdout",
          "text": [
            "19\n",
            "60\n",
            "Guess lower\n",
            "20\n",
            "Guess lower\n",
            "18\n",
            "Guess higher\n",
            "19\n",
            "You Win!\n"
          ]
        }
      ],
      "source": [
        "from random import randint\n",
        "\n",
        "correct = randint(0, 100)\n",
        "print(correct)\n",
        "\n",
        "while True:\n",
        "  guess = int(input())\n",
        "\n",
        "  if guess < correct:\n",
        "    print(\"Guess higher\")\n",
        "  elif guess > correct:\n",
        "    print(\"Guess lower\")\n",
        "  else:\n",
        "    print(\"You Win!\")\n",
        "    break\n"
      ]
    }
  ]
}